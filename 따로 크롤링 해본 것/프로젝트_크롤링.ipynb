{
  "cells": [
    {
      "cell_type": "code",
      "execution_count": null,
      "id": "464728c4",
      "metadata": {
        "id": "464728c4"
      },
      "outputs": [],
      "source": [
        "# 크롤링에 필요한 모듈 가져오기\n",
        "from selenium import webdriver\n",
        "from selenium.webdriver.support.ui import WebDriverWait\n",
        "from selenium.webdriver.support import expected_conditions as EC\n",
        "from selenium.webdriver.common.by import By\n",
        "import time\n",
        "from bs4 import BeautifulSoup\n",
        "from time import sleep\n",
        "import random\n",
        "import pandas as pd\n",
        "import warnings\n",
        "warnings.filterwarnings('ignore')"
      ]
    },
    {
      "cell_type": "code",
      "execution_count": null,
      "id": "42c26f6d",
      "metadata": {
        "id": "42c26f6d"
      },
      "outputs": [],
      "source": [
        "def scroll(modal,driver):\n",
        "    try:        \n",
        "        # 스크롤 높이 받아오기\n",
        "        last_height = driver.execute_script(\"return arguments[0].scrollHeight\", modal)\n",
        "        while True:\n",
        "            pause_time = random.uniform(0.5, 0.8)\n",
        "            # 최하단까지 스크롤\n",
        "            driver.execute_script(\"arguments[0].scrollTo(0, arguments[0].scrollHeight);\", modal)\n",
        "            # 페이지 로딩 대기\n",
        "            time.sleep(pause_time)\n",
        "            # 무한 스크롤 동작을 위해 살짝 위로 스크롤\n",
        "            driver.execute_script(\"arguments[0].scrollTo(0, arguments[0].scrollHeight-50);\", modal)\n",
        "            time.sleep(pause_time)\n",
        "            # 스크롤 높이 새롭게 받아오기\n",
        "            new_height = driver.execute_script(\"return arguments[0].scrollHeight\", modal)\n",
        "            try:\n",
        "                # '더보기' 버튼 있을 경우 클릭\n",
        "                all_review_button = driver.find_element_by_xpath('/html/body/div[1]/div[4]/c-wiz/div/div[2]/div/div/main/div/div[1]/div[2]/div[2]/div/span/span').click()\n",
        "            except:\n",
        "                # 스크롤 완료 경우\n",
        "                if new_height == last_height:\n",
        "                    print(\"스크롤 완료\")\n",
        "                    break\n",
        "                last_height = new_height\n",
        "                \n",
        "    except Exception as e:\n",
        "        print(\"에러 발생: \", e)"
      ]
    },
    {
      "cell_type": "code",
      "execution_count": null,
      "id": "ada402f2",
      "metadata": {
        "id": "ada402f2"
      },
      "outputs": [],
      "source": [
        "df_dict = dict()\n",
        "def page_scoll(url,name) :\n",
        "    star_list = []\n",
        "    sympathy_list = []\n",
        "    comment_list = []\n",
        "        # 크롬 드라이버 세팅\n",
        "    driver = webdriver.Chrome('chromedriver.exe')\n",
        "        # 페이지 열기\n",
        "    driver.get(url)\n",
        "    # 페이지 로딩 대기\n",
        "    wait = WebDriverWait(driver, 3)\n",
        "\n",
        "    # '리뷰 모두 보기' 버튼 렌더링 확인(path 수정 @2022-06-22)\n",
        "    all_review_button_xpath = '/html/body/c-wiz[2]/div/div/div[1]/div[2]/div/div[1]/c-wiz[4]/section/div/div/div[5]/div/div/button/span'\n",
        "    button_loading_wait = wait.until(EC.element_to_be_clickable((By.XPATH, all_review_button_xpath)))\n",
        "    # '리뷰 모두 보기' 버튼 클릭\n",
        "    driver.find_element(By.XPATH,all_review_button_xpath).click()\n",
        "\n",
        "    # '리뷰 모두 보기' 페이지 렌더링 대기\n",
        "    all_review_page_xpath = '/html/body/div[4]/div[2]/div/div/div/div/div[2]'\n",
        "    page_loading_wait = wait.until(EC.element_to_be_clickable((By.XPATH, all_review_page_xpath)))\n",
        "\n",
        "    # 페이지 무한 스크롤 다운\n",
        "    modal = WebDriverWait(driver, 2).until(EC.element_to_be_clickable((By.XPATH, \"//div[@class='fysCi']\")))\n",
        "    scroll(modal,driver)\n",
        "    html = driver.page_source\n",
        "    soup = BeautifulSoup(html, 'html.parser')\n",
        "    review_source = soup.select('div.RHo1pe')\n",
        "    for i in range(0,len(review_source)):\n",
        "        comment_list.append(soup.select(\"div.RHo1pe > div.h3YV2d\")[i].text)\n",
        "        star = driver.find_element(By.XPATH,f'//*[@id=\"yDmH0d\"]/div[4]/div[2]/div/div/div/div/div[2]/div/div[1]/div[{i+1}]/header/div[2]/div')\n",
        "        star = star.get_attribute(\"aria-label\")[10]\n",
        "        star_list.append(star)\n",
        "        try:\n",
        "            sympathy = driver.find_element(By.CSS_SELECTOR,f'#yDmH0d > div.VfPpkd-Sx9Kwc.cC1eCc.UDxLd.PzCPDd.HQdjr.VfPpkd-Sx9Kwc-OWXEXe-FNFY6c > div.VfPpkd-wzTsW > div > div > div > div > div.fysCi > div > div:nth-child(1) > div:nth-child({i+1}) > div:nth-child(3) > div').text[4:7]\n",
        "            sympathy = sympathy.replace('명','')\n",
        "            sympathy = sympathy.replace('이','')\n",
        "            sympathy_list.append(sympathy)\n",
        "        except:\n",
        "            sympathy_list.append(0)\n",
        "    \n",
        "    df1 = pd.DataFrame(star_list)\n",
        "    df2 = pd.DataFrame(sympathy_list)\n",
        "    df3 = pd.DataFrame(comment_list)\n",
        "    df = pd.concat([df1,df2,df3],axis=1)\n",
        "    df.columns = [\"별점\",\"공감\",\"댓글\"]\n",
        "            \n",
        "    # df = pd.DataFrame([i for i in comment_list])\n",
        "    df_dict[name]=df\n",
        "    \n",
        "    return df_dict"
      ]
    },
    {
      "cell_type": "code",
      "execution_count": null,
      "id": "a63ff2c9",
      "metadata": {
        "id": "a63ff2c9",
        "outputId": "5b07531c-8cf6-4528-e1c9-279c96748390"
      },
      "outputs": [
        {
          "name": "stdout",
          "output_type": "stream",
          "text": [
            "스크롤 완료\n"
          ]
        }
      ],
      "source": [
        "page_scoll('https://play.google.com/store/apps/details?id=com.petsbe.android.petsbemall','어바웃펫')    # 함수를 통해 앱사이트 댓글 크롤링\n",
        "df = df_dict['어바웃펫']                                                                      # 크롤링 댓글 --> DataFrame 형식 적용\n",
        "df.to_csv('./어바웃펫.csv', index=False)"
      ]
    },
    {
      "cell_type": "code",
      "execution_count": null,
      "id": "f32d5b02",
      "metadata": {
        "id": "f32d5b02",
        "outputId": "060ceec7-ad17-49bb-90b8-a624630ec930"
      },
      "outputs": [
        {
          "name": "stdout",
          "output_type": "stream",
          "text": [
            "스크롤 완료\n"
          ]
        }
      ],
      "source": [
        "page_scoll('https://play.google.com/store/apps/details?id=com.fineappstudio.android.petfriends','펫프렌즈')    # 함수를 통해 앱사이트 댓글 크롤링\n",
        "df = df_dict['펫프렌즈']                                                                      # 크롤링 댓글 --> DataFrame 형식 적용\n",
        "df.to_csv('./펫프렌즈.csv', index=False)"
      ]
    },
    {
      "cell_type": "code",
      "execution_count": null,
      "id": "7d8364ac",
      "metadata": {
        "id": "7d8364ac",
        "outputId": "ad60684c-1331-4b81-b550-4368dab0650b"
      },
      "outputs": [
        {
          "name": "stdout",
          "output_type": "stream",
          "text": [
            "스크롤 완료\n"
          ]
        }
      ],
      "source": [
        "page_scoll('https://play.google.com/store/apps/details?id=kr.co.fitpet','핏펫')    # 함수를 통해 앱사이트 댓글 크롤링\n",
        "df = df_dict['핏펫']                                                                      # 크롤링 댓글 --> DataFrame 형식 적용\n",
        "df.to_csv('./핏펫.csv', index=False)"
      ]
    },
    {
      "cell_type": "code",
      "execution_count": null,
      "id": "bb3b67de",
      "metadata": {
        "id": "bb3b67de",
        "outputId": "ec663d68-c20c-4df2-daab-7245db4d62a4"
      },
      "outputs": [
        {
          "name": "stdout",
          "output_type": "stream",
          "text": [
            "스크롤 완료\n"
          ]
        }
      ],
      "source": [
        "page_scoll('https://play.google.com/store/apps/details?id=com.applepie4.mylittlepet','헬로펫')\n",
        "df = df_dict['헬로펫']\n",
        "df.to_csv('./헬로펫.csv', index=False)"
      ]
    },
    {
      "cell_type": "code",
      "execution_count": null,
      "id": "6876cafc",
      "metadata": {
        "id": "6876cafc",
        "outputId": "a3fb7e70-ac17-4079-8e63-aced107d26a5"
      },
      "outputs": [
        {
          "name": "stdout",
          "output_type": "stream",
          "text": [
            "스크롤 완료\n"
          ]
        }
      ],
      "source": [
        "page_scoll('https://play.google.com/store/apps/details?id=com.samsungcard.pet','아지냥이')\n",
        "df = df_dict['아지냥이']\n",
        "df.to_csv('./아지냥이.csv', index=False)"
      ]
    },
    {
      "cell_type": "code",
      "execution_count": null,
      "id": "d99ffac9",
      "metadata": {
        "id": "d99ffac9",
        "outputId": "be38ba85-40f7-42b6-b5be-78a5c8c52438"
      },
      "outputs": [
        {
          "name": "stdout",
          "output_type": "stream",
          "text": [
            "스크롤 완료\n"
          ]
        }
      ],
      "source": [
        "page_scoll('https://play.google.com/store/apps/details?id=com.banlife.banlifeapp','반려생활')\n",
        "df = df_dict['반려생활']\n",
        "df.to_csv('./반려생활.csv', index=False)"
      ]
    },
    {
      "cell_type": "code",
      "execution_count": null,
      "id": "0fe25249",
      "metadata": {
        "id": "0fe25249",
        "outputId": "00e0c404-2893-4bb7-bda0-df9e0ff26d41"
      },
      "outputs": [
        {
          "name": "stdout",
          "output_type": "stream",
          "text": [
            "스크롤 완료\n"
          ]
        }
      ],
      "source": [
        "page_scoll('https://play.google.com/store/apps/details?id=com.radcns.petpot','펫팟')\n",
        "df = df_dict['펫팟']\n",
        "df.to_csv('./펫팟.csv', index=False)"
      ]
    },
    {
      "cell_type": "code",
      "execution_count": null,
      "id": "dae2f1e5",
      "metadata": {
        "id": "dae2f1e5",
        "outputId": "7c550905-6481-4e84-cc0f-4a5c88ab178b"
      },
      "outputs": [
        {
          "name": "stdout",
          "output_type": "stream",
          "text": [
            "스크롤 완료\n"
          ]
        }
      ],
      "source": [
        "page_scoll('https://play.google.com/store/apps/details?id=com.petbom','펫봄')\n",
        "df = df_dict['펫봄']\n",
        "df.to_csv('./펫봄.csv', index=False)"
      ]
    },
    {
      "cell_type": "code",
      "execution_count": null,
      "id": "e53babd4",
      "metadata": {
        "id": "e53babd4",
        "outputId": "48417689-2980-426e-adea-2ef0255ce268"
      },
      "outputs": [
        {
          "name": "stdout",
          "output_type": "stream",
          "text": [
            "스크롤 완료\n"
          ]
        }
      ],
      "source": [
        "page_scoll('https://play.google.com/store/apps/details?id=com.funnc.dogpre','강아지대통령')\n",
        "df = df_dict['강아지대통령']\n",
        "df.to_csv('./강아지대통령.csv', index=False)"
      ]
    },
    {
      "cell_type": "code",
      "execution_count": null,
      "id": "bf892d11",
      "metadata": {
        "id": "bf892d11",
        "outputId": "ac0e4aa5-f6aa-4170-dc37-8939792d27d4"
      },
      "outputs": [
        {
          "name": "stdout",
          "output_type": "stream",
          "text": [
            "스크롤 완료\n"
          ]
        }
      ],
      "source": [
        "page_scoll('https://play.google.com/store/apps/details?id=com.saladpet.app','샐러드펫')\n",
        "df = df_dict['샐러드펫']\n",
        "df.to_csv('./샐러드펫.csv', index=False)"
      ]
    },
    {
      "cell_type": "code",
      "execution_count": null,
      "id": "88d9df6a",
      "metadata": {
        "id": "88d9df6a",
        "outputId": "fc04c218-7110-4b5a-bac2-a59d57a664a2"
      },
      "outputs": [
        {
          "name": "stdout",
          "output_type": "stream",
          "text": [
            "스크롤 완료\n"
          ]
        }
      ],
      "source": [
        "page_scoll('https://play.google.com/store/apps/details?id=kr.bemypet.bemypet_main_app','비마이펫')\n",
        "df = df_dict['비마이펫']\n",
        "df.to_csv('./비마이펫.csv', index=False)"
      ]
    },
    {
      "cell_type": "code",
      "execution_count": null,
      "id": "a7fb052a",
      "metadata": {
        "id": "a7fb052a",
        "outputId": "b667ab72-30c1-44bc-abe3-99c8b0964f2b"
      },
      "outputs": [
        {
          "name": "stdout",
          "output_type": "stream",
          "text": [
            "스크롤 완료\n"
          ]
        }
      ],
      "source": [
        "page_scoll('https://play.google.com/store/apps/details?id=com.ylcompany.ahapet','아하펫')\n",
        "df = df_dict['아하펫']\n",
        "df.to_csv('./아하펫.csv', index=False)"
      ]
    },
    {
      "cell_type": "code",
      "execution_count": null,
      "id": "af617510",
      "metadata": {
        "id": "af617510",
        "outputId": "bc0aa8ba-5504-477d-ec97-cf2a6e805637"
      },
      "outputs": [
        {
          "name": "stdout",
          "output_type": "stream",
          "text": [
            "스크롤 완료\n"
          ]
        }
      ],
      "source": [
        "page_scoll('https://play.google.com/store/apps/details?id=com.petbox.shop','펫박스')\n",
        "df = df_dict['펫박스']\n",
        "df.to_csv('./펫박스.csv', index=False)"
      ]
    },
    {
      "cell_type": "code",
      "execution_count": null,
      "id": "f38ee694",
      "metadata": {
        "id": "f38ee694",
        "outputId": "dfe99adf-3a4d-4a61-b404-0ffa6b6b4cc9"
      },
      "outputs": [
        {
          "name": "stdout",
          "output_type": "stream",
          "text": [
            "스크롤 완료\n"
          ]
        }
      ],
      "source": [
        "page_scoll('https://play.google.com/store/apps/details?id=io.efil.moco','멍냥보감')\n",
        "df = df_dict['멍냥보감']\n",
        "df.to_csv('./멍냥보감.csv', index=False)"
      ]
    },
    {
      "cell_type": "code",
      "execution_count": null,
      "id": "8be55493",
      "metadata": {
        "id": "8be55493",
        "outputId": "47029405-8baf-4bef-fa2c-85811b2f63de"
      },
      "outputs": [
        {
          "name": "stdout",
          "output_type": "stream",
          "text": [
            "스크롤 완료\n"
          ]
        }
      ],
      "source": [
        "page_scoll('https://play.google.com/store/apps/details?id=com.butlerdiary.butlerdiary','집사일기')\n",
        "df = df_dict['집사일기']\n",
        "df.to_csv('./집사일기.csv', index=False)"
      ]
    },
    {
      "cell_type": "code",
      "execution_count": null,
      "id": "fa05b1da",
      "metadata": {
        "id": "fa05b1da",
        "outputId": "8dcf92df-d577-4af1-cb59-c9aee5c0a9de"
      },
      "outputs": [
        {
          "name": "stdout",
          "output_type": "stream",
          "text": [
            "스크롤 완료\n"
          ]
        }
      ],
      "source": [
        "page_scoll('https://play.google.com/store/apps/details?id=kr.co.petfins.android','펫핀스')\n",
        "df = df_dict['펫핀스']\n",
        "df.to_csv('./펫핀스.csv', index=False)"
      ]
    },
    {
      "cell_type": "code",
      "execution_count": null,
      "id": "db46c0de",
      "metadata": {
        "id": "db46c0de",
        "outputId": "01b1f486-5e1f-4996-ac85-9f11cc9d5436"
      },
      "outputs": [
        {
          "name": "stdout",
          "output_type": "stream",
          "text": [
            "스크롤 완료\n"
          ]
        }
      ],
      "source": [
        "page_scoll('https://play.google.com/store/apps/details?id=com.dfang.playfang','펫피')\n",
        "df = df_dict['펫피']\n",
        "df.to_csv('./펫피.csv', index=False)"
      ]
    },
    {
      "cell_type": "code",
      "execution_count": null,
      "id": "9558ae6d",
      "metadata": {
        "id": "9558ae6d",
        "outputId": "f5c433e5-2f9e-46af-dd3a-b4fd2d9d24da"
      },
      "outputs": [
        {
          "name": "stdout",
          "output_type": "stream",
          "text": [
            "스크롤 완료\n"
          ]
        }
      ],
      "source": [
        "page_scoll('https://play.google.com/store/apps/details?id=com.piedpuppy','피리부는 강아지')\n",
        "df = df_dict['피리부는 강아지']\n",
        "df.to_csv('./피리부는 강아지.csv', index=False)"
      ]
    },
    {
      "cell_type": "code",
      "execution_count": null,
      "id": "ba35d641",
      "metadata": {
        "id": "ba35d641",
        "outputId": "8b7df7c5-871a-45d2-f948-886c168e1df7"
      },
      "outputs": [
        {
          "name": "stdout",
          "output_type": "stream",
          "text": [
            "스크롤 완료\n"
          ]
        }
      ],
      "source": [
        "page_scoll('https://play.google.com/store/apps/details?id=com.potpleapps.holapet','올라펫')\n",
        "df = df_dict['올라펫']\n",
        "df.to_csv('./올라펫.csv', index=False)"
      ]
    },
    {
      "cell_type": "code",
      "execution_count": null,
      "id": "6ac7b3f0",
      "metadata": {
        "id": "6ac7b3f0",
        "outputId": "c5334de4-2a30-4415-aa11-a14ad230548a"
      },
      "outputs": [
        {
          "name": "stdout",
          "output_type": "stream",
          "text": [
            "스크롤 완료\n"
          ]
        }
      ],
      "source": [
        "page_scoll('https://play.google.com/store/apps/details?id=kr.co.vango.android','반려의고수')\n",
        "df = df_dict['반려의고수']\n",
        "df.to_csv('./반려의고수.csv', index=False)"
      ]
    },
    {
      "cell_type": "code",
      "execution_count": null,
      "id": "a68b9209",
      "metadata": {
        "id": "a68b9209"
      },
      "outputs": [],
      "source": [
        "page_scoll('https://play.google.com/store/apps/details?id=com.petudy.mobile','펫터디')\n",
        "df = df_dict['펫터디']\n",
        "df.to_csv('./펫터디.csv', index=False)"
      ]
    },
    {
      "cell_type": "code",
      "execution_count": null,
      "id": "deaff99b",
      "metadata": {
        "id": "deaff99b"
      },
      "outputs": [],
      "source": []
    }
  ],
  "metadata": {
    "kernelspec": {
      "display_name": "Python 3",
      "language": "python",
      "name": "python3"
    },
    "language_info": {
      "codemirror_mode": {
        "name": "ipython",
        "version": 3
      },
      "file_extension": ".py",
      "mimetype": "text/x-python",
      "name": "python",
      "nbconvert_exporter": "python",
      "pygments_lexer": "ipython3",
      "version": "3.8.8"
    },
    "colab": {
      "provenance": []
    }
  },
  "nbformat": 4,
  "nbformat_minor": 5
}