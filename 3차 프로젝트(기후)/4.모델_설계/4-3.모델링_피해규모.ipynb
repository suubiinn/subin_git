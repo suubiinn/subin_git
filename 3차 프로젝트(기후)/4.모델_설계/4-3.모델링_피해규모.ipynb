{
 "cells": [
  {
   "cell_type": "markdown",
   "id": "ba027fe6",
   "metadata": {},
   "source": [
    "# 1. 라이브러리"
   ]
  },
  {
   "cell_type": "code",
   "execution_count": 1,
   "id": "09b82ee5",
   "metadata": {},
   "outputs": [],
   "source": [
    "import numpy as np\n",
    "import pandas as pd\n",
    "import matplotlib.pyplot as plt\n",
    "import seaborn as sns\n",
    "\n",
    "import os\n",
    "import glob\n",
    "\n",
    "from sklearn.model_selection import train_test_split\n",
    "from sklearn.preprocessing import StandardScaler, MinMaxScaler\n",
    "\n",
    "from sklearn.model_selection import GridSearchCV\n",
    "from sklearn.ensemble import RandomForestRegressor, VotingRegressor\n",
    "from sklearn.linear_model import LogisticRegression\n",
    "from xgboost import XGBRegressor\n",
    "from sklearn.svm import SVR\n",
    "\n",
    "from sklearn.metrics import classification_report, f1_score, r2_score, mean_squared_error\n",
    "\n",
    "import warnings\n",
    "warnings.filterwarnings('ignore')"
   ]
  },
  {
   "cell_type": "markdown",
   "id": "34ca213e",
   "metadata": {},
   "source": [
    "# 2. 데이터 불러오기"
   ]
  },
  {
   "cell_type": "code",
   "execution_count": 2,
   "id": "e4cbda45",
   "metadata": {},
   "outputs": [],
   "source": [
    "df = pd.read_csv('./data/df_damage.csv')\n",
    "\n",
    "df.drop(columns=['지점_번호', '지점명', '시간', '연도', '월', '일', '계절', '원인'],inplace=True)"
   ]
  },
  {
   "cell_type": "markdown",
   "id": "21e0372a",
   "metadata": {},
   "source": [
    "# 3. 모델 설계"
   ]
  },
  {
   "cell_type": "code",
   "execution_count": 3,
   "id": "73807b1f",
   "metadata": {},
   "outputs": [],
   "source": [
    "x = df.iloc[:, :-6]\n",
    "y = df.iloc[:, -1]\n",
    "\n",
    "x_train, x_test, y_train, y_test = train_test_split(x, y, train_size=0.25, random_state=42)"
   ]
  },
  {
   "cell_type": "code",
   "execution_count": 4,
   "id": "28f6ff10",
   "metadata": {
    "scrolled": true
   },
   "outputs": [
    {
     "name": "stdout",
     "output_type": "stream",
     "text": [
      "Fitting 5 folds for each of 192 candidates, totalling 960 fits\n",
      "r2 score :  0.5997050165078193\n"
     ]
    }
   ],
   "source": [
    "xgb= XGBRegressor()\n",
    "\n",
    "xgb_param_grid={\n",
    "    'n_estimators' : [200, 300, 400, 500],\n",
    "    'learning_rate' : [0.01, 0.05, 0.15],\n",
    "    'max_depth' : [3,5, 10, 15],\n",
    "    'gamma' : [2, 3],\n",
    "    'colsample_bytree' : [0.8, 0.9],\n",
    "}\n",
    "gridsearch=GridSearchCV(XGBRegressor(), param_grid=xgb_param_grid, scoring='f1_macro', n_jobs=-1, verbose=2)\n",
    "gridsearch.fit(x_train, y_train)\n",
    "\n",
    "best = gridsearch.best_estimator_\n",
    "best.fit(x_train, y_train)\n",
    "y_pred = best.predict(x_test)\n",
    "print('r2 score : ', r2_score(y_test, y_pred))"
   ]
  },
  {
   "cell_type": "markdown",
   "id": "67379b84",
   "metadata": {},
   "source": [
    "# 4. 예측"
   ]
  },
  {
   "cell_type": "code",
   "execution_count": 5,
   "id": "024ff70b",
   "metadata": {},
   "outputs": [
    {
     "name": "stdout",
     "output_type": "stream",
     "text": [
      "r2 score :  0.5997050165078193\n",
      "mse :  1.070468260516186e+16\n"
     ]
    }
   ],
   "source": [
    "print('r2 score : ', r2_score(y_test, y_pred))\n",
    "print('mse : ', mean_squared_error(y_test, y_pred))"
   ]
  },
  {
   "cell_type": "code",
   "execution_count": 6,
   "id": "6dba81e1",
   "metadata": {},
   "outputs": [],
   "source": [
    "# 조정된 결정계수\n",
    "def adj_r2(r2, n, p):\n",
    "    return 1 - (1-r2)*(n-1) / (n-p-1)"
   ]
  },
  {
   "cell_type": "code",
   "execution_count": 7,
   "id": "737dd1e6",
   "metadata": {},
   "outputs": [
    {
     "data": {
      "text/plain": [
       "0.5982801809300624"
      ]
     },
     "execution_count": 7,
     "metadata": {},
     "output_type": "execute_result"
    }
   ],
   "source": [
    "adj_r2(r2_score(y_test, y_pred), len(x_test), len(x_test.columns))"
   ]
  },
  {
   "cell_type": "code",
   "execution_count": 8,
   "id": "9798c707",
   "metadata": {},
   "outputs": [
    {
     "data": {
      "text/plain": [
       "array([0., 0., 0., ..., 0., 0., 0.])"
      ]
     },
     "execution_count": 8,
     "metadata": {},
     "output_type": "execute_result"
    }
   ],
   "source": [
    "np.array(y_test)"
   ]
  },
  {
   "cell_type": "code",
   "execution_count": 9,
   "id": "57aeccb3",
   "metadata": {},
   "outputs": [
    {
     "data": {
      "text/plain": [
       "array([ -187318.47,  -187318.47,  -187318.47, ...,  -187318.47,\n",
       "       16241922.  ,  -187318.47], dtype=float32)"
      ]
     },
     "execution_count": 9,
     "metadata": {},
     "output_type": "execute_result"
    }
   ],
   "source": [
    "y_pred"
   ]
  },
  {
   "cell_type": "code",
   "execution_count": null,
   "id": "5eab97e5",
   "metadata": {},
   "outputs": [],
   "source": []
  }
 ],
 "metadata": {
  "kernelspec": {
   "display_name": "Python 3 (ipykernel)",
   "language": "python",
   "name": "python3"
  },
  "language_info": {
   "codemirror_mode": {
    "name": "ipython",
    "version": 3
   },
   "file_extension": ".py",
   "mimetype": "text/x-python",
   "name": "python",
   "nbconvert_exporter": "python",
   "pygments_lexer": "ipython3",
   "version": "3.9.13"
  }
 },
 "nbformat": 4,
 "nbformat_minor": 5
}
