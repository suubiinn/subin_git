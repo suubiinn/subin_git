{
 "cells": [
  {
   "cell_type": "markdown",
   "id": "bfda7d81",
   "metadata": {},
   "source": [
    "# 1. 라이브러리"
   ]
  },
  {
   "cell_type": "code",
   "execution_count": 1,
   "id": "cc9e79d0",
   "metadata": {},
   "outputs": [],
   "source": [
    "import numpy as np\n",
    "import pandas as pd\n",
    "import matplotlib.pyplot as plt\n",
    "import seaborn as sns\n",
    "\n",
    "import os\n",
    "import glob\n",
    "import math\n",
    "\n",
    "from datetime import datetime\n",
    "\n",
    "import warnings\n",
    "warnings.filterwarnings('ignore')"
   ]
  },
  {
   "cell_type": "markdown",
   "id": "78ffbdb6",
   "metadata": {},
   "source": [
    "# 2. 데이터 불러오기"
   ]
  },
  {
   "cell_type": "code",
   "execution_count": 2,
   "id": "27bfb7d9",
   "metadata": {},
   "outputs": [],
   "source": [
    "df = pd.read_csv('./data/visualization_train.csv')\n",
    "dmg_data_path = os.listdir('./data/damage')"
   ]
  },
  {
   "cell_type": "markdown",
   "id": "e844ca07",
   "metadata": {},
   "source": [
    "df : 지역별 데이터를 모두 통합한 데이터\n",
    "\n",
    "dmg_data_path : 피해규모 데이터 경로"
   ]
  },
  {
   "cell_type": "markdown",
   "id": "b8ce80e5",
   "metadata": {},
   "source": [
    "# 3. 전처리 함수"
   ]
  },
  {
   "cell_type": "code",
   "execution_count": 3,
   "id": "0cd57778",
   "metadata": {},
   "outputs": [],
   "source": [
    "# 특별시, 광역시 데이터 추출\n",
    "def metro_city(df, city, city_list):\n",
    "    idx_city = list(df[df['지점명'] == city].index)\n",
    "    city_list += idx_city"
   ]
  },
  {
   "cell_type": "markdown",
   "id": "3f993cec",
   "metadata": {},
   "source": [
    "피해규모 데이터는 서울과 6개의 광역시에 대한 데이터입니다.\n",
    "\n",
    "따라서 df로부터 해당 지역 데이터의 인덱스를 리스트로 저장합니다."
   ]
  },
  {
   "cell_type": "code",
   "execution_count": 4,
   "id": "67ec8bd4",
   "metadata": {},
   "outputs": [],
   "source": [
    "# 원하는 연도 추출\n",
    "def metro_year(df, year, year_list):\n",
    "    idx_year = list(df[df['연도'] == year].index)\n",
    "    year_list += idx_year"
   ]
  },
  {
   "cell_type": "markdown",
   "id": "e611dd98",
   "metadata": {},
   "source": [
    "피해규모 데이터는 2015, 2017, 2018, 2019, 2020년의 데이터입니다.\n",
    "\n",
    "따라서 df로부터 해당 연도 데이터의 인덱스를 리스트로 저장합니다."
   ]
  },
  {
   "cell_type": "code",
   "execution_count": 5,
   "id": "bd0b4935",
   "metadata": {},
   "outputs": [],
   "source": [
    "# 원하는 자연재난 추출\n",
    "def weather_df(df, natural_disaster):\n",
    "    idx = []\n",
    "    for i in range(len(df)):\n",
    "        if df[natural_disaster][i] == 1:\n",
    "            idx.append(i)\n",
    "\n",
    "    df = df.iloc[idx, :]\n",
    "    df.reset_index(drop=True, inplace=True)\n",
    "    return df"
   ]
  },
  {
   "cell_type": "markdown",
   "id": "7a28c579",
   "metadata": {},
   "source": [
    "폭염, 한파, 호우, 대설 중 특정 자연재난 데이터를 추출합니다."
   ]
  },
  {
   "cell_type": "code",
   "execution_count": 6,
   "id": "d3e142bf",
   "metadata": {},
   "outputs": [],
   "source": [
    "def mpc_year(df):\n",
    "    mpc_list = ['서울', '인천', '대전', '대구', '부산', '울산', '광주']\n",
    "    year_list = [2015, 2017, 2018, 2019, 2020]\n",
    "    idx_metro = []\n",
    "    idx_year = []\n",
    "\n",
    "    # 서울 및 광역시 데이터\n",
    "    for city in mpc_list:\n",
    "        metro_city(df, city, idx_metro)\n",
    "\n",
    "    df_mpc = df.iloc[idx_metro, :]\n",
    "    df_mpc.reset_index(drop=True, inplace=True)\n",
    "\n",
    "    # 연도 데이터\n",
    "    for year in year_list:\n",
    "        metro_year(df_mpc, year, idx_year)\n",
    "\n",
    "    df_mpc = df_mpc.iloc[idx_year, :]\n",
    "    df_mpc.reset_index(drop=True, inplace=True)\n",
    "\n",
    "    df_mpc['원인'] = '없음'\n",
    "    df_mpc['호우_인명피해'] = 0\n",
    "    df_mpc['대설_인명피해'] = 0\n",
    "    df_mpc['총_인명피해'] = 0\n",
    "    df_mpc['호우_피해액'] = 0    \n",
    "    df_mpc['대설_피해액'] = 0    \n",
    "    df_mpc['총_피해액'] = 0\n",
    "\n",
    "    return df_mpc"
   ]
  },
  {
   "cell_type": "markdown",
   "id": "fe68a71b",
   "metadata": {},
   "source": [
    "앞서 정의한 함수들을 이용하여 새로운 데이터프레임을 생성합니다.\n",
    "\n",
    "지역은 서울, 인천, 대전, 대구, 부산, 울산, 광주입니다.\n",
    "\n",
    "연도는 2015년, 2017년, 2018년, 2019년, 2020년입니다.\n",
    "\n",
    "새로운 데이터프레임을 생성한 후, 원인과 인명피해, 피해액 컬럼을 생성합니다."
   ]
  },
  {
   "cell_type": "code",
   "execution_count": 7,
   "id": "01f5e296",
   "metadata": {},
   "outputs": [],
   "source": [
    "def nd_dmg(dmg_data_path, df, natural_disaster, standard):\n",
    "    df_damage = pd.read_csv('./data/damage/' + dmg_data_path)\n",
    "    df_damage = df_damage.iloc[1:, :].copy()\n",
    "    df_damage.reset_index(drop=True, inplace=True)\n",
    "    \n",
    "    df_damage['시작_일자'] = pd.to_datetime(df_damage['시작_일자'])\n",
    "    df_damage['종료_일자'] = pd.to_datetime(df_damage['종료_일자'])\n",
    "\n",
    "    df_damage['시작_일자'] = df_damage['시작_일자'].astype(str)\n",
    "    df_damage['종료_일자'] = df_damage['종료_일자'].astype(str)\n",
    "    \n",
    "    # 지역 컬럼 수정\n",
    "    for i in range(len(df_damage)):\n",
    "        df_damage['지역'][i] = df_damage['지역'][i][:2]\n",
    "\n",
    "    # metro_city 함수 사용을 위해 컬럼명 통일\n",
    "    df_damage.rename(columns={'지역' : '지점명'}, inplace=True)\n",
    "\n",
    "    # 이재민수 type 변경\n",
    "    df_damage['이재민수'] = df_damage['이재민수'].astype(int)\n",
    "    \n",
    "    mpc_list = ['서울', '인천', '대전', '대구', '부산', '울산', '광주']\n",
    "    idx_metro = []\n",
    "\n",
    "    for city in mpc_list:\n",
    "        metro_city(df_damage, city, idx_metro)\n",
    "\n",
    "    df_damage = df_damage.iloc[idx_metro, :]\n",
    "    df_damage.reset_index(drop=True, inplace=True)\n",
    "\n",
    "    # 인명피해 및 피해액 데이터 입력\n",
    "    for i in range(len(df_damage)):\n",
    "        if natural_disaster in df_damage['원인'][i]:\n",
    "            df_temp = df[df['시간'].between(df_damage['시작_일자'][i], df_damage['종료_일자'][i])]\n",
    "            region_list = df_temp[df_temp['지점명'] == df_damage['지점명'][i]].index\n",
    "            df_region = df.iloc[region_list, :]\n",
    "            df_region.reset_index(drop=True, inplace=True)\n",
    "            \n",
    "            for j in range(len(df_region)):\n",
    "                if sum(df_region[standard]) != 0:\n",
    "                    df_region[f'{natural_disaster}_인명피해'][j] = df_region[standard][j]/sum(df_region[standard]) * df_damage['이재민수'][i]\n",
    "                    df_region[f'{natural_disaster}_피해액'][j] = df_region[standard][j]/sum(df_region[standard]) * df_damage['피해액'][i]\n",
    "\n",
    "                    df[f'{natural_disaster}_인명피해'][region_list[j]] += df_region[f'{natural_disaster}_인명피해'][j]\n",
    "                    df[f'{natural_disaster}_피해액'][region_list[j]] += df_region[f'{natural_disaster}_피해액'][j]\n",
    "                    \n",
    "                    df['원인'][region_list[j]] = natural_disaster\n",
    "                else:\n",
    "                    df_region[f'{natural_disaster}_인명피해'][j] = 0\n",
    "                    df_region[f'{natural_disaster}_피해액'][j] = 0\n",
    "    \n",
    "    df['총_인명피해'] = df['호우_인명피해'] + df['대설_인명피해']\n",
    "    df['총_피해액'] = df['호우_피해액'] + df['대설_피해액']\n",
    "\n",
    "    return df"
   ]
  },
  {
   "cell_type": "markdown",
   "id": "cd453729",
   "metadata": {},
   "source": [
    "피해규모 데이터에 있는 인명피해와 피해액 컬럼을 앞서 정의한 mpc_year 함수로 생성한 df_mpc으로 이동시킵니다.\n",
    "\n",
    "피해규모 데이터는 피해가 발생한 기간을 보여주는 데이터인 반면에 df_mpc는 일별 데이터이기 때문에 between을 이용하여 범위를 지정합니다.\n",
    "\n",
    "해당 기간의 인명피해 및 피해액은 해당 자연재난과의 상관계수가 가장 높은 지표의 비율에 따라 나누었습니다."
   ]
  },
  {
   "cell_type": "markdown",
   "id": "c8595088",
   "metadata": {},
   "source": [
    "# 4. 전처리 함수 실행"
   ]
  },
  {
   "cell_type": "code",
   "execution_count": 8,
   "id": "51d9f350",
   "metadata": {
    "scrolled": false
   },
   "outputs": [],
   "source": [
    "# 호우\n",
    "df_mpc = mpc_year(df)\n",
    "for i in range(len(dmg_data_path)):\n",
    "    df_damage = nd_dmg(dmg_data_path[i], df_mpc, '호우', '일강수량')\n",
    "    \n",
    "# 대설\n",
    "for i in range(len(dmg_data_path)):\n",
    "    df_dmg_final = nd_dmg(dmg_data_path[i], df_damage, '대설', '일_최심신적설')"
   ]
  },
  {
   "cell_type": "code",
   "execution_count": 9,
   "id": "c184339c",
   "metadata": {},
   "outputs": [],
   "source": [
    "df_dmg_final['호우_피해액'] = df_dmg_final['호우_피해액'] * 1000\n",
    "df_dmg_final['대설_피해액'] = df_dmg_final['대설_피해액'] * 1000\n",
    "df_dmg_final['총_피해액'] = df_dmg_final['총_피해액'] * 1000"
   ]
  },
  {
   "cell_type": "markdown",
   "id": "f24d3bf2",
   "metadata": {},
   "source": [
    "피해액 컬럼의 단위를 수정합니다."
   ]
  },
  {
   "cell_type": "code",
   "execution_count": 10,
   "id": "b8896f75",
   "metadata": {},
   "outputs": [],
   "source": [
    "df_dmg_final.to_csv('./data/df_damage.csv', index=False)"
   ]
  },
  {
   "cell_type": "code",
   "execution_count": null,
   "id": "8f10251d",
   "metadata": {},
   "outputs": [],
   "source": []
  }
 ],
 "metadata": {
  "kernelspec": {
   "display_name": "Python 3 (ipykernel)",
   "language": "python",
   "name": "python3"
  },
  "language_info": {
   "codemirror_mode": {
    "name": "ipython",
    "version": 3
   },
   "file_extension": ".py",
   "mimetype": "text/x-python",
   "name": "python",
   "nbconvert_exporter": "python",
   "pygments_lexer": "ipython3",
   "version": "3.9.12"
  }
 },
 "nbformat": 4,
 "nbformat_minor": 5
}
